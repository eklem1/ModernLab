{
 "cells": [
  {
   "cell_type": "code",
   "execution_count": 1,
   "metadata": {},
   "outputs": [],
   "source": [
    "import numpy as np\n",
    "import matplotlib.pyplot as plt\n",
    "import matplotlib.gridspec as gs\n",
    "import scipy.optimize as opt\n",
    "from scipy.optimize import curve_fit\n",
    "import spinmob as s\n",
    "# import os "
   ]
  },
  {
   "cell_type": "code",
   "execution_count": 2,
   "metadata": {},
   "outputs": [],
   "source": [
    "def linear(V, m, b):\n",
    "    return m*V + b\n",
    "\n",
    "def linearErr(V, erV, m, erM, b, erb):\n",
    "    return np.sqrt( (m*V)**2*( (erM/m)**2+ (erV/V)**2) + (erb)**2 )\n"
   ]
  },
  {
   "cell_type": "code",
   "execution_count": 23,
   "metadata": {},
   "outputs": [],
   "source": [
    "CalData = np.transpose(np.loadtxt(\"Calibration_EQ6085.csv\", delimiter=',', skiprows = 1))\n",
    "\n",
    "# print(CalData[0])"
   ]
  },
  {
   "cell_type": "code",
   "execution_count": 4,
   "metadata": {},
   "outputs": [],
   "source": [
    "#1G = 1e(-4)T\n",
    "#1T = 10 000 G\n",
    "# so 0.5 T is 5000G -> 5kG\n",
    "\n",
    "# for i in range(0, int(len(final_result)/10)):\n",
    "popt, pcov = curve_fit(linear, CalData[0][0:-9], CalData[1][0:-9])\n",
    "errP = np.sqrt(np.diag(pcov))\n",
    "mMag = popt[0]\n",
    "bMag = popt[1]"
   ]
  },
  {
   "cell_type": "code",
   "execution_count": 27,
   "metadata": {},
   "outputs": [],
   "source": [
    "V = np.linspace(0, .6, 100)\n",
    "\n",
    "# plt.plot(CalData[0], CalData[1])\n",
    "# plt.plot(V, linear(V, popt[0], popt[1]), ls=\"--\")\n",
    "\n",
    "# plt.title(\"T vs mV\")\n",
    "# plt.xlabel('V')\n",
    "# plt.ylabel('kG')\n",
    "# plt.show()"
   ]
  },
  {
   "cell_type": "code",
   "execution_count": 25,
   "metadata": {},
   "outputs": [],
   "source": [
    "def getMagFromVolt_Err(V, ErrV):\n",
    "    magFied = linear(Voltage, mMag, bMag)\n",
    "    \n",
    "    Err = linearErr(V, ErrV, mMag, errP[0], bMag, errP[1])\n",
    "    return [magFied, Err]\n",
    "    "
   ]
  },
  {
   "cell_type": "code",
   "execution_count": 35,
   "metadata": {},
   "outputs": [
    {
     "name": "stdout",
     "output_type": "stream",
     "text": [
      "4.511194(0.0639) kG, or 0.451119 T\n"
     ]
    }
   ],
   "source": [
    "Voltage = np.abs(0.322)\n",
    "# Voltage = -0.358\n",
    "\n",
    "VoltErr = 0.012*Voltage + 3**3*(1e-7) #this is sorta for the wrong range\n",
    "\n",
    "magFied = getMagFromVolt_Err(Voltage, VoltErr)\n",
    "\n",
    "print(\"%f(%.4f) kG, or %f T\" %(magFied[0], magFied[1], magFied[0]/10))"
   ]
  },
  {
   "cell_type": "code",
   "execution_count": null,
   "metadata": {},
   "outputs": [],
   "source": [
    "# FieldArray = []"
   ]
  }
 ],
 "metadata": {
  "kernelspec": {
   "display_name": "Python 3",
   "language": "python",
   "name": "python3"
  },
  "language_info": {
   "codemirror_mode": {
    "name": "ipython",
    "version": 3
   },
   "file_extension": ".py",
   "mimetype": "text/x-python",
   "name": "python",
   "nbconvert_exporter": "python",
   "pygments_lexer": "ipython3",
   "version": "3.7.4"
  }
 },
 "nbformat": 4,
 "nbformat_minor": 4
}
