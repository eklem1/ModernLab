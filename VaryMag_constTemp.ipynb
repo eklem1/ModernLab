{
 "cells": [
  {
   "cell_type": "code",
   "execution_count": 146,
   "metadata": {},
   "outputs": [],
   "source": [
    "\"\"\"\n",
    "Magneto-resistance\n",
    "Many data runs for short period times. Each done at room temperature in a different magnetic field.\n",
    "\n",
    "\"\"\""
   ]
  },
  {
   "cell_type": "code",
   "execution_count": 146,
   "metadata": {},
   "outputs": [],
   "source": [
    "import numpy as np\n",
    "import matplotlib.pyplot as plt\n",
    "import matplotlib.gridspec as gs\n",
    "import scipy.optimize as opt\n",
    "from scipy.optimize import curve_fit\n",
    "import spinmob as s\n",
    "# import os "
   ]
  },
  {
   "cell_type": "code",
   "execution_count": 147,
   "metadata": {},
   "outputs": [],
   "source": [
    "def linear(V, m, b):\n",
    "    return m*V + b\n",
    "\n",
    "def linearErr(V, erV, m, erM, b, erb):\n",
    "    return np.sqrt( (m*V)**2*( (erM/m)**2+ (erV/V)**2) + (erb)**2 )\n"
   ]
  },
  {
   "cell_type": "code",
   "execution_count": 148,
   "metadata": {},
   "outputs": [],
   "source": [
    "CalData = np.transpose(np.loadtxt(\"Calibration_EQ6085.csv\", delimiter=',', skiprows = 1))\n",
    "\n",
    "# print(CalData[0])"
   ]
  },
  {
   "cell_type": "code",
   "execution_count": 149,
   "metadata": {},
   "outputs": [],
   "source": [
    "#1G = 1e(-4)T\n",
    "#1T = 10 000 G\n",
    "# so 0.5 T is 5000G -> 5kG\n",
    "\n",
    "# for i in range(0, int(len(final_result)/10)):\n",
    "popt, pcov = curve_fit(linear, CalData[0][0:-9], CalData[1][0:-9])\n",
    "errP = np.sqrt(np.diag(pcov))\n",
    "mMag = popt[0]\n",
    "bMag = popt[1]"
   ]
  },
  {
   "cell_type": "code",
   "execution_count": 150,
   "metadata": {},
   "outputs": [],
   "source": [
    "V = np.linspace(0, .6, 100)\n",
    "\n",
    "# plt.plot(CalData[0], CalData[1])\n",
    "# plt.plot(V, linear(V, popt[0], popt[1]), ls=\"--\")\n",
    "\n",
    "# plt.title(\"T vs mV\")\n",
    "# plt.xlabel('V')\n",
    "# plt.ylabel('kG')\n",
    "# plt.show()"
   ]
  },
  {
   "cell_type": "code",
   "execution_count": 210,
   "metadata": {},
   "outputs": [],
   "source": [
    "def getMagFromVolt_Err(V):\n",
    "    \n",
    "    ErrV = 0.012*V + 3**3*(1e-7)\n",
    "    \n",
    "    magField = linear(np.abs(V), mMag, bMag)\n",
    "    \n",
    "    Err = linearErr(np.abs(V), ErrV, mMag, errP[0], bMag, errP[1])\n",
    "    \n",
    "    if V < 0:\n",
    "        magField = magField*(-1)\n",
    "    \n",
    "    return [magField, Err]\n",
    "\n",
    "\n",
    "\"\"\"\n",
    "Takes input voltage (mV) and outputs corresponding temperature (C)\n",
    "Must be run with mVArraysOf10[] and fits[]\n",
    "Need errors\n",
    "\n",
    "\n",
    "\"\"\"\n",
    "def getTempFromVolt(V):\n",
    "    fitted = False\n",
    "    index = 0\n",
    "\n",
    "    while fitted == False:\n",
    "    #     print(min(mVArraysOf10[index]), (max(mVArraysOf10[index])) )\n",
    "        if (min(mVArraysOf10[index]) <= V <= (max(mVArraysOf10[index])) ):\n",
    "            TempVal = linear(V, fits[index][0][0], fits[index][0][1])\n",
    "            fitted = True\n",
    "\n",
    "        index+=1\n",
    "        if index == len(fits):\n",
    "            print(\"Error, Voltage not found.\")\n",
    "            TempVal = 0\n",
    "            break\n",
    "    \n",
    "    return TempVal\n",
    "\n",
    "def linearErr(V, erV, m, erM, b, erb):\n",
    "    return np.sqrt( (m*V)**2*( (erM/m)**2+ (erV/V)**2) + (erb)**2 )\n",
    "\n",
    "\"\"\"\n",
    "Takes in a voltage and it's error.\n",
    "Returns an array of the corresponding temp in kelvin and it's error\n",
    "\"\"\"\n",
    "def getTempFromVolt_Err(V, ErrV):\n",
    "    fitted = False\n",
    "    index = 0\n",
    "\n",
    "    while fitted == False:\n",
    "    #     print(min(mVArraysOf10[index]), (max(mVArraysOf10[index])) )\n",
    "        if (min(mVArraysOf10[index]) <= V <= (max(mVArraysOf10[index])) ):\n",
    "            TempVal = linear(V, fits[index][0][0], fits[index][0][1]) + 273.15\n",
    "            fitted = True\n",
    "            \n",
    "            Err = linearErr(V, ErrV, fits[index][0][0], fits[index][1][0], fits[index][0][1], fits[index][1][1])\n",
    "            #need to get errors\n",
    "#             fits[index][1][0], fits[index][1][1] + error on V\n",
    "\n",
    "        index+=1\n",
    "        if index == len(fits):\n",
    "            print(\"Error, Voltage not found.\")\n",
    "            TempVal = 0\n",
    "            Err = 0\n",
    "            break\n",
    "    \n",
    "    return [TempVal, Err]\n",
    "\n",
    "\"\"\"\n",
    "Given the data in voltages [V], returns an array of the same size with the error on each voltage\n",
    "\"\"\"\n",
    "def ErrOnVoltage(data):\n",
    "    errStatic = 3**3*(1e-7)\n",
    "    Err = []\n",
    "\n",
    "    for row in data:\n",
    "        row_err = []\n",
    "        for ele in row:\n",
    "            row_err.append( (0.012*ele + errStatic)*2)  \n",
    "\n",
    "        Err.append(row_err)\n",
    "        \n",
    "    return np.array(Err)"
   ]
  },
  {
   "cell_type": "code",
   "execution_count": 211,
   "metadata": {},
   "outputs": [
    {
     "name": "stdout",
     "output_type": "stream",
     "text": [
      "5.023382(0.0705) kG, or 0.502338 T\n"
     ]
    }
   ],
   "source": [
    "Voltage = 0.359\n",
    "# Voltage = -0.358\n",
    "\n",
    "magFied = getMagFromVolt_Err(Voltage)\n",
    "\n",
    "print(\"%f(%.4f) kG, or %f T\" %(magFied[0], magFied[1], magFied[0]/10))"
   ]
  },
  {
   "cell_type": "code",
   "execution_count": 212,
   "metadata": {},
   "outputs": [],
   "source": [
    "Voltages_for_Fields = np.transpose(np.loadtxt(\"Feb14_1610_VaryMagField.csv\", delimiter=',', skiprows = 1))[0]\n",
    "# print(FieldArray)\n",
    "\n",
    "BFeild = (np.array([getMagFromVolt_Err(v) for v in Voltages_for_Fields])/10).T #this\n",
    "\n",
    "# print(BFeild[0])"
   ]
  },
  {
   "cell_type": "code",
   "execution_count": 213,
   "metadata": {},
   "outputs": [],
   "source": [
    "nameA = np.linspace(1, 21, 21)\n",
    "\n",
    "ave = [] \n",
    "std = []\n",
    "b = 0\n",
    "\n",
    "#loop through each data file for a different B feild run\n",
    "for i in nameA:\n",
    "    name = 'Data/BFeild/Voltage Readings Data F%i.csv' %(i)\n",
    "\n",
    "    Data1 = np.transpose(np.loadtxt(name, delimiter=',', skiprows = 1))\n",
    "    Data1_err = ErrOnVoltage(Data1)\n",
    "\n",
    "    #get and save the average and std for each voltage\n",
    "    ave1 = np.average(Data1, axis=1)\n",
    "    std1 = np.std(Data1, axis=1)\n",
    "#     print(ave1)\n",
    "    \n",
    "    ave.append(ave1)\n",
    "    std.append(std1)\n",
    "    \n",
    "#     plt.plot(Data1[4], ls=\" \", marker=\".\")\n",
    "#     plt.hlines(ave1[4], xmin=0, xmax=len(Data1[0]), ls=\"--\")\n",
    "\n",
    "#     plt.grid()\n",
    "#     plt.ylabel(\"$V_5$\")\n",
    "#     label = \"B field %f T\" %(BFeild[0][b])\n",
    "#     plt.title(label)\n",
    "\n",
    "#     plt.show()\n",
    "    b += 1\n",
    "\n",
    "# print(ave)\n",
    "\n",
    "ave = np.transpose(ave)\n",
    "std = np.transpose(std)\n",
    "\n",
    "# print(ave)"
   ]
  },
  {
   "cell_type": "code",
   "execution_count": 214,
   "metadata": {},
   "outputs": [
    {
     "ename": "OSError",
     "evalue": "Data/BFeild/2020-02-28 14_11 Voltage Readings Data F7_n.csv not found.",
     "output_type": "error",
     "traceback": [
      "\u001b[1;31m---------------------------------------------------------------------------\u001b[0m",
      "\u001b[1;31mOSError\u001b[0m                                   Traceback (most recent call last)",
      "\u001b[1;32m<ipython-input-214-6b4bac0002cc>\u001b[0m in \u001b[0;36m<module>\u001b[1;34m\u001b[0m\n\u001b[0;32m      1\u001b[0m \u001b[0mname\u001b[0m \u001b[1;33m=\u001b[0m \u001b[1;34m'Data/BFeild/2020-02-28 14_11 Voltage Readings Data F7_n.csv'\u001b[0m\u001b[1;33m\u001b[0m\u001b[1;33m\u001b[0m\u001b[0m\n\u001b[0;32m      2\u001b[0m \u001b[1;33m\u001b[0m\u001b[0m\n\u001b[1;32m----> 3\u001b[1;33m \u001b[0mData1\u001b[0m \u001b[1;33m=\u001b[0m \u001b[0mnp\u001b[0m\u001b[1;33m.\u001b[0m\u001b[0mtranspose\u001b[0m\u001b[1;33m(\u001b[0m\u001b[0mnp\u001b[0m\u001b[1;33m.\u001b[0m\u001b[0mloadtxt\u001b[0m\u001b[1;33m(\u001b[0m\u001b[0mname\u001b[0m\u001b[1;33m,\u001b[0m \u001b[0mdelimiter\u001b[0m\u001b[1;33m=\u001b[0m\u001b[1;34m','\u001b[0m\u001b[1;33m,\u001b[0m \u001b[0mskiprows\u001b[0m \u001b[1;33m=\u001b[0m \u001b[1;36m1\u001b[0m\u001b[1;33m)\u001b[0m\u001b[1;33m)\u001b[0m\u001b[1;33m\u001b[0m\u001b[1;33m\u001b[0m\u001b[0m\n\u001b[0m\u001b[0;32m      4\u001b[0m \u001b[0mData1_err\u001b[0m \u001b[1;33m=\u001b[0m \u001b[0mErrOnVoltage\u001b[0m\u001b[1;33m(\u001b[0m\u001b[0mData1\u001b[0m\u001b[1;33m)\u001b[0m\u001b[1;33m\u001b[0m\u001b[1;33m\u001b[0m\u001b[0m\n\u001b[0;32m      5\u001b[0m \u001b[1;33m\u001b[0m\u001b[0m\n",
      "\u001b[1;32m~\\Anaconda3\\lib\\site-packages\\numpy\\lib\\npyio.py\u001b[0m in \u001b[0;36mloadtxt\u001b[1;34m(fname, dtype, comments, delimiter, converters, skiprows, usecols, unpack, ndmin, encoding, max_rows)\u001b[0m\n\u001b[0;32m    960\u001b[0m             \u001b[0mfname\u001b[0m \u001b[1;33m=\u001b[0m \u001b[0mos_fspath\u001b[0m\u001b[1;33m(\u001b[0m\u001b[0mfname\u001b[0m\u001b[1;33m)\u001b[0m\u001b[1;33m\u001b[0m\u001b[1;33m\u001b[0m\u001b[0m\n\u001b[0;32m    961\u001b[0m         \u001b[1;32mif\u001b[0m \u001b[0m_is_string_like\u001b[0m\u001b[1;33m(\u001b[0m\u001b[0mfname\u001b[0m\u001b[1;33m)\u001b[0m\u001b[1;33m:\u001b[0m\u001b[1;33m\u001b[0m\u001b[1;33m\u001b[0m\u001b[0m\n\u001b[1;32m--> 962\u001b[1;33m             \u001b[0mfh\u001b[0m \u001b[1;33m=\u001b[0m \u001b[0mnp\u001b[0m\u001b[1;33m.\u001b[0m\u001b[0mlib\u001b[0m\u001b[1;33m.\u001b[0m\u001b[0m_datasource\u001b[0m\u001b[1;33m.\u001b[0m\u001b[0mopen\u001b[0m\u001b[1;33m(\u001b[0m\u001b[0mfname\u001b[0m\u001b[1;33m,\u001b[0m \u001b[1;34m'rt'\u001b[0m\u001b[1;33m,\u001b[0m \u001b[0mencoding\u001b[0m\u001b[1;33m=\u001b[0m\u001b[0mencoding\u001b[0m\u001b[1;33m)\u001b[0m\u001b[1;33m\u001b[0m\u001b[1;33m\u001b[0m\u001b[0m\n\u001b[0m\u001b[0;32m    963\u001b[0m             \u001b[0mfencoding\u001b[0m \u001b[1;33m=\u001b[0m \u001b[0mgetattr\u001b[0m\u001b[1;33m(\u001b[0m\u001b[0mfh\u001b[0m\u001b[1;33m,\u001b[0m \u001b[1;34m'encoding'\u001b[0m\u001b[1;33m,\u001b[0m \u001b[1;34m'latin1'\u001b[0m\u001b[1;33m)\u001b[0m\u001b[1;33m\u001b[0m\u001b[1;33m\u001b[0m\u001b[0m\n\u001b[0;32m    964\u001b[0m             \u001b[0mfh\u001b[0m \u001b[1;33m=\u001b[0m \u001b[0miter\u001b[0m\u001b[1;33m(\u001b[0m\u001b[0mfh\u001b[0m\u001b[1;33m)\u001b[0m\u001b[1;33m\u001b[0m\u001b[1;33m\u001b[0m\u001b[0m\n",
      "\u001b[1;32m~\\Anaconda3\\lib\\site-packages\\numpy\\lib\\_datasource.py\u001b[0m in \u001b[0;36mopen\u001b[1;34m(path, mode, destpath, encoding, newline)\u001b[0m\n\u001b[0;32m    264\u001b[0m \u001b[1;33m\u001b[0m\u001b[0m\n\u001b[0;32m    265\u001b[0m     \u001b[0mds\u001b[0m \u001b[1;33m=\u001b[0m \u001b[0mDataSource\u001b[0m\u001b[1;33m(\u001b[0m\u001b[0mdestpath\u001b[0m\u001b[1;33m)\u001b[0m\u001b[1;33m\u001b[0m\u001b[1;33m\u001b[0m\u001b[0m\n\u001b[1;32m--> 266\u001b[1;33m     \u001b[1;32mreturn\u001b[0m \u001b[0mds\u001b[0m\u001b[1;33m.\u001b[0m\u001b[0mopen\u001b[0m\u001b[1;33m(\u001b[0m\u001b[0mpath\u001b[0m\u001b[1;33m,\u001b[0m \u001b[0mmode\u001b[0m\u001b[1;33m,\u001b[0m \u001b[0mencoding\u001b[0m\u001b[1;33m=\u001b[0m\u001b[0mencoding\u001b[0m\u001b[1;33m,\u001b[0m \u001b[0mnewline\u001b[0m\u001b[1;33m=\u001b[0m\u001b[0mnewline\u001b[0m\u001b[1;33m)\u001b[0m\u001b[1;33m\u001b[0m\u001b[1;33m\u001b[0m\u001b[0m\n\u001b[0m\u001b[0;32m    267\u001b[0m \u001b[1;33m\u001b[0m\u001b[0m\n\u001b[0;32m    268\u001b[0m \u001b[1;33m\u001b[0m\u001b[0m\n",
      "\u001b[1;32m~\\Anaconda3\\lib\\site-packages\\numpy\\lib\\_datasource.py\u001b[0m in \u001b[0;36mopen\u001b[1;34m(self, path, mode, encoding, newline)\u001b[0m\n\u001b[0;32m    622\u001b[0m                                       encoding=encoding, newline=newline)\n\u001b[0;32m    623\u001b[0m         \u001b[1;32melse\u001b[0m\u001b[1;33m:\u001b[0m\u001b[1;33m\u001b[0m\u001b[1;33m\u001b[0m\u001b[0m\n\u001b[1;32m--> 624\u001b[1;33m             \u001b[1;32mraise\u001b[0m \u001b[0mIOError\u001b[0m\u001b[1;33m(\u001b[0m\u001b[1;34m\"%s not found.\"\u001b[0m \u001b[1;33m%\u001b[0m \u001b[0mpath\u001b[0m\u001b[1;33m)\u001b[0m\u001b[1;33m\u001b[0m\u001b[1;33m\u001b[0m\u001b[0m\n\u001b[0m\u001b[0;32m    625\u001b[0m \u001b[1;33m\u001b[0m\u001b[0m\n\u001b[0;32m    626\u001b[0m \u001b[1;33m\u001b[0m\u001b[0m\n",
      "\u001b[1;31mOSError\u001b[0m: Data/BFeild/2020-02-28 14_11 Voltage Readings Data F7_n.csv not found."
     ]
    }
   ],
   "source": [
    "\n",
    "name = 'Data/BFeild/2020-02-28 14_11 Voltage Readings Data F7_n.csv'\n",
    "\n",
    "Data1 = np.transpose(np.loadtxt(name, delimiter=',', skiprows = 1))\n",
    "Data1_err = ErrOnVoltage(Data1)\n",
    "\n",
    "#     print(len(Data1[0]))\n",
    "\n",
    "#get and save the average and std for each voltage\n",
    "ave1 = np.average(Data1, axis=1)\n",
    "std1 = np.std(Data1, axis=1)\n",
    "#     print(ave1)\n",
    "\n",
    "plt.plot(Data1[4], ls=\" \", marker=\".\")\n",
    "plt.hlines(ave1[4], xmin=0, xmax=len(Data1[0]), ls=\"--\")\n",
    "\n",
    "plt.grid()\n",
    "plt.ylabel(\"$V_5$\")\n",
    "label = \"New B field 0.206100 T\"\n",
    "plt.title(label)\n",
    "plt.show()\n"
   ]
  },
  {
   "cell_type": "code",
   "execution_count": 215,
   "metadata": {},
   "outputs": [
    {
     "data": {
      "image/png": "[encoded data removed]",
      "text/plain": [
       "<Figure size 432x288 with 1 Axes>"
      ]
     },
     "metadata": {
      "needs_background": "light"
     },
     "output_type": "display_data"
    }
   ],
   "source": [
    "plt.plot(BFeild[0], ave[4], ls=\" \", marker=\".\")\n",
    "plt.plot(0.206100, ave1[4], marker=\"o\")\n",
    "\n",
    "plt.grid()\n",
    "plt.ylabel(\"V\")\n",
    "plt.xlabel(\"B [T]\")\n",
    "\n",
    "plt.show()"
   ]
  },
  {
   "cell_type": "code",
   "execution_count": 216,
   "metadata": {},
   "outputs": [],
   "source": [
    "def QuadraticB(B, C, d, f):\n",
    "    return C*(B-f)**2 + d"
   ]
  },
  {
   "cell_type": "code",
   "execution_count": null,
   "metadata": {},
   "outputs": [],
   "source": []
  },
  {
   "cell_type": "code",
   "execution_count": null,
   "metadata": {},
   "outputs": [],
   "source": []
  },
  {
   "cell_type": "code",
   "execution_count": 217,
   "metadata": {},
   "outputs": [],
   "source": [
    "Voltages_for_Fields = np.transpose(np.loadtxt(\"Feb14_1610_VaryMagField_try2.csv\", delimiter=',', skiprows = 1))[0]\n",
    "# print(FieldArray)\n",
    "\n",
    "BFeild = (np.array([getMagFromVolt_Err(v) for v in Voltages_for_Fields])/10).T #this\n",
    "\n",
    "# print(BFeild[0])"
   ]
  },
  {
   "cell_type": "code",
   "execution_count": 218,
   "metadata": {},
   "outputs": [],
   "source": [
    "nameA = np.linspace(1, 21, 21)\n",
    "\n",
    "ave = [] \n",
    "std = []\n",
    "b = 0\n",
    "\n",
    "#loop through each data file for a different B feild run\n",
    "for i in nameA:\n",
    "    if i < 8:\n",
    "        name = 'Data/BFeild/Voltage Readings Data F%i_n.csv' %(i)\n",
    "    else:\n",
    "        name = 'Data/BFeild/Voltage Readings Data F%i.csv' %(i)\n",
    "\n",
    "\n",
    "    Data1 = np.transpose(np.loadtxt(name, delimiter=',', skiprows = 1))\n",
    "    Data1_err = ErrOnVoltage(Data1)\n",
    "\n",
    "    #get and save the average and std for each voltage\n",
    "    ave1 = np.average(Data1, axis=1)\n",
    "    std1 = np.std(Data1, axis=1)\n",
    "#     print(ave1)\n",
    "    \n",
    "    ave.append(ave1)\n",
    "    std.append(std1)\n",
    "    \n",
    "#     plt.plot(Data1[4], ls=\" \", marker=\".\")\n",
    "#     plt.hlines(ave1[4], xmin=0, xmax=len(Data1[0]), ls=\"--\")\n",
    "\n",
    "#     plt.grid()\n",
    "#     plt.ylabel(\"$V_5$\")\n",
    "#     label = \"B field %f T\" %(BFeild[0][b])\n",
    "#     plt.title(label)\n",
    "\n",
    "#     plt.show()\n",
    "    b += 1\n",
    "\n",
    "# print(ave)\n",
    "\n",
    "ave = np.transpose(ave)\n",
    "std = np.transpose(std)\n",
    "\n",
    "# print(ave)"
   ]
  },
  {
   "cell_type": "code",
   "execution_count": 219,
   "metadata": {},
   "outputs": [
    {
     "data": {
      "image/png": "[encoded data removed]",
      "text/plain": [
       "<Figure size 432x288 with 1 Axes>"
      ]
     },
     "metadata": {
      "needs_background": "light"
     },
     "output_type": "display_data"
    }
   ],
   "source": [
    "plt.plot(BFeild[0][7:], ave[4][7:], ls=\" \", marker=\".\")\n",
    "# plt.plot(0.206100, ave1[4], marker=\"o\")\n",
    "\n",
    "plt.grid()\n",
    "plt.ylabel(\"V\")\n",
    "plt.xlabel(\"B [T]\")\n",
    "\n",
    "plt.show()"
   ]
  },
  {
   "cell_type": "code",
   "execution_count": 209,
   "metadata": {},
   "outputs": [
    {
     "data": {
      "image/png": "[encoded data removed]",
      "text/plain": [
       "<Figure size 432x288 with 2 Axes>"
      ]
     },
     "metadata": {
      "needs_background": "light"
     },
     "output_type": "display_data"
    },
    {
     "data": {
      "image/png": "[encoded data removed]",
      "text/plain": [
       "<Figure size 432x288 with 2 Axes>"
      ]
     },
     "metadata": {
      "needs_background": "light"
     },
     "output_type": "display_data"
    },
    {
     "data": {
      "text/plain": [
       "\n",
       "SETTINGS\n",
       "  autoplot        True\n",
       "  coarsen         [1]\n",
       "  first_figure    0\n",
       "  fpoints         [None]\n",
       "  plot_all_data   [False]\n",
       "  plot_bg         [True]\n",
       "  plot_errors     [True]\n",
       "  plot_fit        [True]\n",
       "  plot_guess      [False]\n",
       "  plot_guess_zoom [False]\n",
       "  scale_eydata    [1.0]\n",
       "  silent          False\n",
       "  style_bg        [{'marker': '', 'color': 'k', 'ls': '-'}]\n",
       "  style_data      [{'marker': '.', 'color': 'black', 'ls': '', 'mec': 'b'}]\n",
       "  style_fit       [{'marker': '', 'color': 'r', 'ls': '-'}]\n",
       "  style_guess     [{'marker': '', 'color': '0.25', 'ls': '-'}]\n",
       "  subtract_bg     [False]\n",
       "  xlabel          ['Temp [K]']\n",
       "  xmax            [None]\n",
       "  xmin            [None]\n",
       "  xscale          ['linear']\n",
       "  ylabel          ['V']\n",
       "  ymax            [None]\n",
       "  ymin            [None]\n",
       "  yscale          ['linear']\n",
       "\n",
       "GUESS (reduced chi^2 = 216.25 +/- 0.43, 11.0 DOF)\n",
       "  C          = 0.01\n",
       "  d          = 0.07\n",
       "  f          = -0.1\n",
       "\n",
       "FIT RESULTS (reduced chi^2 = 2.63 +/- 0.43, 11 DOF)\n",
       "  C          = 0.02326 +/- 0.00063\n",
       "  d          = 0.07032 +/- 4e-05\n",
       "  f          = -0.1455 +/- 0.003"
      ]
     },
     "execution_count": 209,
     "metadata": {},
     "output_type": "execute_result"
    }
   ],
   "source": [
    "my_fitter = s.data.fitter()\n",
    "my_fitter.set(style_data = [{'marker': '.', 'color': 'black', 'ls': '', 'mec': 'b'}]\\\n",
    "              , plot_guess=False, fpoints=None, xlabel = \"Temp [K]\" , ylabel = \"V\")\n",
    "# help(s.data.fitter)\n",
    "\n",
    "guess='C=0.01, d=0.07, f=-0.1'\n",
    "\n",
    "my_fitter.set_functions(f=QuadraticB, p=guess)\n",
    "\n",
    "# , \n",
    "my_fitter.set_data(xdata=BFeild[0][7:], ydata=ave[4][7:], eydata=std[4][7:])\n",
    "# my_fitter.set_data(data=TempDataComHigh[0][100:], ydata=DataComHigh[4][100:])\n",
    "\n",
    "my_fitter.fit()\n",
    "# print()"
   ]
  },
  {
   "cell_type": "code",
   "execution_count": null,
   "metadata": {},
   "outputs": [],
   "source": []
  }
 ],
 "metadata": {
  "kernelspec": {
   "display_name": "Python 3",
   "language": "python",
   "name": "python3"
  },
  "language_info": {
   "codemirror_mode": {
    "name": "ipython",
    "version": 3
   },
   "file_extension": ".py",
   "mimetype": "text/x-python",
   "name": "python",
   "nbconvert_exporter": "python",
   "pygments_lexer": "ipython3",
   "version": "3.7.4"
  }
 },
 "nbformat": 4,
 "nbformat_minor": 4
}
