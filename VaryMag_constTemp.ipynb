{
 "cells": [
  {
   "cell_type": "code",
   "execution_count": 2,
   "metadata": {},
   "outputs": [],
   "source": [
    "import numpy as np\n",
    "import matplotlib.pyplot as plt\n",
    "import matplotlib.gridspec as gs\n",
    "import scipy.optimize as opt\n",
    "from scipy.optimize import curve_fit\n",
    "import spinmob as s\n",
    "# import os "
   ]
  },
  {
   "cell_type": "code",
   "execution_count": 3,
   "metadata": {},
   "outputs": [],
   "source": [
    "def linear(V, m, b):\n",
    "    return m*V + b\n",
    "\n",
    "def linearErr(V, erV, m, erM, b, erb):\n",
    "    return np.sqrt( (m*V)**2*( (erM/m)**2+ (erV/V)**2) + (erb)**2 )\n"
   ]
  },
  {
   "cell_type": "code",
   "execution_count": 4,
   "metadata": {},
   "outputs": [],
   "source": [
    "CalData = np.transpose(np.loadtxt(\"Calibration_EQ6085.csv\", delimiter=',', skiprows = 1))\n",
    "\n",
    "# print(CalData[0])"
   ]
  },
  {
   "cell_type": "code",
   "execution_count": 26,
   "metadata": {},
   "outputs": [],
   "source": [
    "#1G = 1e(-4)T\n",
    "#1T = 10 000 G\n",
    "# so 0.5 T is 5000G -> 5kG\n",
    "\n",
    "# for i in range(0, int(len(final_result)/10)):\n",
    "popt, pcov = curve_fit(linear, CalData[0][0:-9], CalData[1][0:-9])\n",
    "errP = np.sqrt(np.diag(pcov))\n",
    "mMag = popt[0]\n",
    "bMag = popt[1]"
   ]
  },
  {
   "cell_type": "code",
   "execution_count": 27,
   "metadata": {},
   "outputs": [],
   "source": [
    "V = np.linspace(0, .6, 100)\n",
    "\n",
    "# plt.plot(CalData[0], CalData[1])\n",
    "# plt.plot(V, linear(V, popt[0], popt[1]), ls=\"--\")\n",
    "\n",
    "# plt.title(\"T vs mV\")\n",
    "# plt.xlabel('V')\n",
    "# plt.ylabel('kG')\n",
    "# plt.show()"
   ]
  },
  {
   "cell_type": "code",
   "execution_count": 75,
   "metadata": {},
   "outputs": [],
   "source": [
    "def getMagFromVolt_Err(V):\n",
    "    \n",
    "    ErrV = 0.012*V + 3**3*(1e-7)\n",
    "    \n",
    "    magField = linear(np.abs(V), mMag, bMag)\n",
    "    \n",
    "    Err = linearErr(np.abs(V), ErrV, mMag, errP[0], bMag, errP[1])\n",
    "    \n",
    "    if V < 0:\n",
    "        magField = magField*(-1)\n",
    "    \n",
    "    return [magField, Err]\n",
    "\n",
    "\n",
    "\"\"\"\n",
    "Takes input voltage (mV) and outputs corresponding temperature (C)\n",
    "Must be run with mVArraysOf10[] and fits[]\n",
    "Need errors\n",
    "\n",
    "\n",
    "\"\"\"\n",
    "def getTempFromVolt(V):\n",
    "    fitted = False\n",
    "    index = 0\n",
    "\n",
    "    while fitted == False:\n",
    "    #     print(min(mVArraysOf10[index]), (max(mVArraysOf10[index])) )\n",
    "        if (min(mVArraysOf10[index]) <= V <= (max(mVArraysOf10[index])) ):\n",
    "            TempVal = linear(V, fits[index][0][0], fits[index][0][1])\n",
    "            fitted = True\n",
    "\n",
    "        index+=1\n",
    "        if index == len(fits):\n",
    "            print(\"Error, Voltage not found.\")\n",
    "            TempVal = 0\n",
    "            break\n",
    "    \n",
    "    return TempVal\n",
    "\n",
    "def linearErr(V, erV, m, erM, b, erb):\n",
    "    return np.sqrt( (m*V)**2*( (erM/m)**2+ (erV/V)**2) + (erb)**2 )\n",
    "\n",
    "\"\"\"\n",
    "Takes in a voltage and it's error.\n",
    "Returns an array of the corresponding temp in kelvin and it's error\n",
    "\"\"\"\n",
    "def getTempFromVolt_Err(V, ErrV):\n",
    "    fitted = False\n",
    "    index = 0\n",
    "\n",
    "    while fitted == False:\n",
    "    #     print(min(mVArraysOf10[index]), (max(mVArraysOf10[index])) )\n",
    "        if (min(mVArraysOf10[index]) <= V <= (max(mVArraysOf10[index])) ):\n",
    "            TempVal = linear(V, fits[index][0][0], fits[index][0][1]) + 273.15\n",
    "            fitted = True\n",
    "            \n",
    "            Err = linearErr(V, ErrV, fits[index][0][0], fits[index][1][0], fits[index][0][1], fits[index][1][1])\n",
    "            #need to get errors\n",
    "#             fits[index][1][0], fits[index][1][1] + error on V\n",
    "\n",
    "        index+=1\n",
    "        if index == len(fits):\n",
    "            print(\"Error, Voltage not found.\")\n",
    "            TempVal = 0\n",
    "            Err = 0\n",
    "            break\n",
    "    \n",
    "    return [TempVal, Err]\n",
    "\n",
    "\"\"\"\n",
    "Given the data in voltages [V], returns an array of the same size with the error on each voltage\n",
    "\"\"\"\n",
    "def ErrOnVoltage(data):\n",
    "    errStatic = 3**3*(1e-7)\n",
    "    Err = []\n",
    "\n",
    "    for row in data:\n",
    "        row_err = []\n",
    "        for ele in row:\n",
    "            row_err.append(0.012*ele + errStatic) \n",
    "\n",
    "        Err.append(row_err)\n",
    "        \n",
    "    return np.array(Err)"
   ]
  },
  {
   "cell_type": "code",
   "execution_count": 78,
   "metadata": {},
   "outputs": [
    {
     "name": "stdout",
     "output_type": "stream",
     "text": [
      "4.511194(0.0639) kG, or 0.451119 T\n"
     ]
    }
   ],
   "source": [
    "Voltage = 0.322\n",
    "# Voltage = -0.358\n",
    "\n",
    "magFied = getMagFromVolt_Err(Voltage)\n",
    "\n",
    "print(\"%f(%.4f) kG, or %f T\" %(magFied[0], magFied[1], magFied[0]/10))"
   ]
  },
  {
   "cell_type": "code",
   "execution_count": 87,
   "metadata": {},
   "outputs": [],
   "source": [
    "Voltages_for_Fields = np.transpose(np.loadtxt(\"Feb14_1610_VaryMagField.csv\", delimiter=',', skiprows = 1))[0]\n",
    "# print(FieldArray)\n",
    "\n",
    "BFeild = (np.array([getMagFromVolt_Err(v) for v in Voltages_for_Fields])/10).T #this\n",
    "\n",
    "# print(BFeild[0])"
   ]
  },
  {
   "cell_type": "code",
   "execution_count": 88,
   "metadata": {},
   "outputs": [],
   "source": [
    "nameA = np.linspace(1, 21, 21)\n",
    "\n",
    "ave = [] \n",
    "std = []\n",
    "\n",
    "#loop through each data file for a different B feild run\n",
    "for i in nameA:\n",
    "    name = 'Data/BFeild/Voltage Readings Data F%i.csv' %(i)\n",
    "\n",
    "    Data1 = np.transpose(np.loadtxt(name, delimiter=',', skiprows = 1))\n",
    "    Data1_err = ErrOnVoltage(Data1)\n",
    "    \n",
    "#     print(len(Data1[0]))\n",
    "\n",
    "    #get and save the average and std for each voltage\n",
    "    ave1 = np.average(Data1, axis=1)\n",
    "    std1 = np.std(Data1, axis=1)\n",
    "#     print(ave1)\n",
    "    \n",
    "    ave.append(ave1)\n",
    "    std.append(std1)\n",
    "\n",
    "# print(ave)\n",
    "\n",
    "ave = np.transpose(ave)\n",
    "std = np.transpose(std)\n",
    "\n",
    "# print(ave)\n"
   ]
  },
  {
   "cell_type": "code",
   "execution_count": 107,
   "metadata": {},
   "outputs": [
    {
     "data": {
      "image/png": "[encoded data removed]",
      "text/plain": [
       "<Figure size 432x288 with 1 Axes>"
      ]
     },
     "metadata": {
      "needs_background": "light"
     },
     "output_type": "display_data"
    }
   ],
   "source": [
    "# print(ave1)\n",
    "\n",
    "plt.plot(BFeild[0], ave[4], ls=\" \", marker=\".\")\n",
    "\n",
    "plt.grid()\n",
    "plt.ylabel(\"V\")\n",
    "plt.xlabel(\"B [T]\")\n",
    "\n",
    "plt.show()"
   ]
  },
  {
   "cell_type": "code",
   "execution_count": null,
   "metadata": {},
   "outputs": [],
   "source": []
  }
 ],
 "metadata": {
  "kernelspec": {
   "display_name": "Python 3",
   "language": "python",
   "name": "python3"
  },
  "language_info": {
   "codemirror_mode": {
    "name": "ipython",
    "version": 3
   },
   "file_extension": ".py",
   "mimetype": "text/x-python",
   "name": "python",
   "nbconvert_exporter": "python",
   "pygments_lexer": "ipython3",
   "version": "3.7.4"
  }
 },
 "nbformat": 4,
 "nbformat_minor": 4
}
