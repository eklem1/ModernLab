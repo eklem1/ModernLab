{
 "cells": [
  {
   "cell_type": "code",
   "execution_count": 8,
   "metadata": {},
   "outputs": [],
   "source": [
    "\"\"\"\n",
    "For noise calibration for temperature.\n",
    "Took reading with no changing temperature or magnetic feild to see the fluc of the temperature recording, \n",
    "the hall probe was in the magnet with the cool water running.\n",
    "\"\"\""
   ]
  },
  {
   "cell_type": "code",
   "execution_count": 8,
   "metadata": {},
   "outputs": [],
   "source": [
    "import numpy as np\n",
    "import matplotlib.pyplot as plt\n",
    "import spinmob as s\n",
    "from scipy.optimize import curve_fit"
   ]
  },
  {
   "cell_type": "code",
   "execution_count": null,
   "metadata": {},
   "outputs": [],
   "source": []
  },
  {
   "cell_type": "code",
   "execution_count": 9,
   "metadata": {},
   "outputs": [],
   "source": [
    "def linear(V, m, b):\n",
    "    return m*V + b"
   ]
  },
  {
   "cell_type": "code",
   "execution_count": 10,
   "metadata": {},
   "outputs": [],
   "source": [
    "mv = (np.loadtxt('all_the_mv.csv', delimiter=',', skiprows = 1))"
   ]
  },
  {
   "cell_type": "code",
   "execution_count": 11,
   "metadata": {},
   "outputs": [],
   "source": [
    "result = []\n",
    "for sublist in mv:\n",
    "    for item in sublist:\n",
    "        result.append(item)\n",
    "#print(\"\\nCollapse nested lists:\")\n",
    "final_result = np.transpose(result)\n",
    "# print(final_result)\n",
    "\n",
    "TempArray = np.linspace(-270, 399, 670)"
   ]
  },
  {
   "cell_type": "markdown",
   "metadata": {},
   "source": [
    "### Trying with just taking linear approx on small scales"
   ]
  },
  {
   "cell_type": "code",
   "execution_count": 12,
   "metadata": {},
   "outputs": [],
   "source": [
    "#splitting arrays in to 10 element arrays\n",
    "mVArraysOf10 = np.split(final_result, len(final_result)/10)\n",
    "TArraysOf10 = np.split(TempArray, len(final_result)/10)\n",
    "\n",
    "for i in range(0, len(mVArraysOf10)):\n",
    "    if (i != len(mVArraysOf10) - 1):\n",
    "        mVArraysOf10[i] = np.append(mVArraysOf10[i], mVArraysOf10[i+1][0])\n",
    "        TArraysOf10[i] = np.append(TArraysOf10[i], TArraysOf10[i+1][0])\n",
    "\n",
    "    else:\n",
    "        mVArraysOf10[i] = np.append(mVArraysOf10[i], mVArraysOf10[i-1][-1])\n",
    "        TArraysOf10[i]= np.append(TArraysOf10[i], TArraysOf10[i-1][-1])\n",
    "\n",
    "\n",
    "#get linear fit for each array of 10\n",
    "fits = []\n",
    "\n",
    "for i in range(0, int(len(final_result)/10)):\n",
    "    popt, pcov = curve_fit(linear, mVArraysOf10[i], TArraysOf10[i])\n",
    "    fits.append([popt, np.sqrt(np.diag(pcov))])\n",
    "    \n",
    "# print(fits[-1])\n",
    "# perr = np.sqrt(np.diag(fits[0][0]))\n",
    "# print(perr)"
   ]
  },
  {
   "cell_type": "code",
   "execution_count": 29,
   "metadata": {},
   "outputs": [],
   "source": [
    "\n",
    "\"\"\"\n",
    "Takes input voltage (mV) and outputs corresponding temperature (C)\n",
    "Must be run with mVArraysOf10[] and fits[]\n",
    "Need errors\n",
    "\n",
    "\n",
    "\"\"\"\n",
    "def getTempFromVolt(V):\n",
    "    fitted = False\n",
    "    index = 0\n",
    "\n",
    "    while fitted == False:\n",
    "    #     print(min(mVArraysOf10[index]), (max(mVArraysOf10[index])) )\n",
    "        if (min(mVArraysOf10[index]) <= V <= (max(mVArraysOf10[index])) ):\n",
    "            TempVal = linear(V, fits[index][0][0], fits[index][0][1])\n",
    "            fitted = True\n",
    "\n",
    "        index+=1\n",
    "        if index == len(fits):\n",
    "            print(\"Error, Voltage not found.\")\n",
    "            TempVal = 0\n",
    "            break\n",
    "    \n",
    "    return TempVal\n",
    "\n",
    "def linearErr(V, erV, m, erM, b, erb):\n",
    "    return np.sqrt( (m*V)**2*( (erM/m)**2+ (erV/V)**2) + (erb)**2 )\n",
    "\n",
    "\"\"\"\n",
    "Takes in a voltage and it's error.\n",
    "Returns an array of the corresponding temp in kelvin and it's error\n",
    "\"\"\"\n",
    "def getTempFromVolt_Err(V, ErrV):\n",
    "    fitted = False\n",
    "    index = 0\n",
    "\n",
    "    while fitted == False:\n",
    "    #     print(min(mVArraysOf10[index]), (max(mVArraysOf10[index])) )\n",
    "        if (min(mVArraysOf10[index]) <= V <= (max(mVArraysOf10[index])) ):\n",
    "            TempVal = linear(V, fits[index][0][0], fits[index][0][1]) + 273.15\n",
    "            fitted = True\n",
    "            \n",
    "            Err = linearErr(V, ErrV, fits[index][0][0], fits[index][1][0], fits[index][0][1], fits[index][1][1])\n",
    "            #need to get errors\n",
    "#             fits[index][1][0], fits[index][1][1] + error on V\n",
    "\n",
    "        index+=1\n",
    "        if index == len(fits):\n",
    "            print(\"Error, Voltage not found.\")\n",
    "            TempVal = 0\n",
    "            Err = 0\n",
    "            break\n",
    "    \n",
    "    return [TempVal, Err]\n",
    "\n",
    "\"\"\"\n",
    "Given the data in voltages [V], returns an array of the same size with the error on each voltage\n",
    "\"\"\"\n",
    "def ErrOnVoltage(data):\n",
    "    errStatic = 3**3*(1e-7)\n",
    "    Err = []\n",
    "\n",
    "    for row in data:\n",
    "        row_err = []\n",
    "        for ele in row:\n",
    "            row_err.append( (0.012*ele + errStatic)*2)  \n",
    "\n",
    "        Err.append(row_err)\n",
    "        \n",
    "    return np.array(Err)"
   ]
  },
  {
   "cell_type": "code",
   "execution_count": 30,
   "metadata": {},
   "outputs": [
    {
     "name": "stdout",
     "output_type": "stream",
     "text": [
      "293.957652 (0.245347) K\n"
     ]
    }
   ],
   "source": [
    "# Use function to get temp for a given V\n",
    "V = 0.822\n",
    "VoltErr = 0.012*V + 3**3*(1e-7) #this is sorta for the wrong range\n",
    "\n",
    "Temp = getTempFromVolt_Err(V, VoltErr)\n",
    "            \n",
    "print(\"%f (%f) K\" %(Temp[0], Temp[1]))"
   ]
  },
  {
   "cell_type": "code",
   "execution_count": 38,
   "metadata": {},
   "outputs": [
    {
     "data": {
      "image/png": "[encoded data removed]",
      "text/plain": [
       "<Figure size 432x288 with 1 Axes>"
      ]
     },
     "metadata": {
      "needs_background": "light"
     },
     "output_type": "display_data"
    }
   ],
   "source": [
    "#plotting V4 vs temp to get big resistance as V=IR \n",
    "\n",
    "dataNoise = np.transpose((np.loadtxt('Data/2020-02-24 14_17 Voltage Readings Data.csv', delimiter=',', skiprows = 1)))\n",
    "dataNoise_err = ErrOnVoltage(dataNoise)\n",
    "\n",
    "TempErr_dataNoise = [getTempFromVolt_Err(dataNoise[7][i]*1e3, dataNoise_err[7][i]*1e3) for i in range(0, len(dataNoise[0])) ]\n",
    "TempErr_dataNoise = np.transpose(TempErr_dataNoise)\n",
    "\n",
    "count = np.linspace(0, len(TempErr_dataNoise[0]), len(TempErr_dataNoise[0]))\n",
    "# plt.plot(tempDataLower, dataLower[6], ls=\" \", marker=\".\")\n",
    "plt.errorbar(count, TempErr_dataNoise[0], yerr=TempErr_dataNoise[1], ls=\" \", marker=\".\", label=\"$V_1$\", ecolor='black', capsize=2)\n",
    "\n",
    "plt.grid()\n",
    "plt.xlabel(\"Count\")\n",
    "plt.ylabel(\"Temperature [K]\")\n",
    "\n",
    "plt.show()"
   ]
  },
  {
   "cell_type": "code",
   "execution_count": 44,
   "metadata": {},
   "outputs": [
    {
     "name": "stdout",
     "output_type": "stream",
     "text": [
      "0.5805950955974318\n",
      "0.07014058645732818\n"
     ]
    }
   ],
   "source": [
    "#Get deviation of temp for error\n",
    "# TempErr_dataNoise[0], yerr=TempErr_dataNoise[1]\n",
    "\n",
    "print(np.mean(TempErr_dataNoise[1]))\n",
    "\n",
    "STD = np.std(TempErr_dataNoise[0])/np.sqrt(len(TempErr_dataNoise[0]))\n",
    "print(STD)"
   ]
  },
  {
   "cell_type": "code",
   "execution_count": null,
   "metadata": {},
   "outputs": [],
   "source": []
  }
 ],
 "metadata": {
  "kernelspec": {
   "display_name": "Python 3",
   "language": "python",
   "name": "python3"
  },
  "language_info": {
   "codemirror_mode": {
    "name": "ipython",
    "version": 3
   },
   "file_extension": ".py",
   "mimetype": "text/x-python",
   "name": "python",
   "nbconvert_exporter": "python",
   "pygments_lexer": "ipython3",
   "version": "3.7.4"
  }
 },
 "nbformat": 4,
 "nbformat_minor": 4
}
