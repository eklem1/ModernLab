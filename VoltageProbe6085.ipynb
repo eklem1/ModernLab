{
 "cells": [
  {
   "cell_type": "code",
   "execution_count": null,
   "metadata": {},
   "outputs": [],
   "source": [
    "import numpy as np\n",
    "import matplotlib.pyplot as plt\n",
    "import matplotlib.gridspec as gs\n",
    "import scipy.optimize as opt\n",
    "from scipy.optimize import curve_fit\n",
    "import spinmob as s\n",
    "# import os \n",
    "# os.chdir('C:\\\\Users\\\\joeyb\\\\Documents\\\\Physics 359\\\\Hall')"
   ]
  },
  {
   "cell_type": "code",
   "execution_count": null,
   "metadata": {},
   "outputs": [],
   "source": [
    "def linear(V, m, b):\n",
    "    return m*V + b"
   ]
  },
  {
   "cell_type": "code",
   "execution_count": null,
   "metadata": {},
   "outputs": [],
   "source": [
    "CalData = np.transpose(np.loadtxt(\"Calibration_EQ6085.csv\", delimiter=',', skiprows = 1))\n",
    "\n",
    "print(CalData[0])"
   ]
  },
  {
   "cell_type": "code",
   "execution_count": null,
   "metadata": {},
   "outputs": [],
   "source": [
    "#1G = 1e(-4)T\n",
    "#1T = 10 000 G\n",
    "# so 0.5 T is 5000G -> 5kG\n",
    "\n",
    "\n",
    "# for i in range(0, int(len(final_result)/10)):\n",
    "popt, pcov = curve_fit(linear, CalData[0][0:-9], CalData[1][0:-9])\n",
    "err = np.sqrt(np.diag(pcov))"
   ]
  },
  {
   "cell_type": "code",
   "execution_count": null,
   "metadata": {},
   "outputs": [],
   "source": [
    "V = np.linspace(0, .6, 100)\n",
    "\n",
    "plt.plot(CalData[0], CalData[1])\n",
    "plt.plot(V, linear(V, popt[0], popt[1]), ls=\"--\")\n",
    "\n",
    "# plt.title(\"T vs mV\")\n",
    "plt.xlabel('V')\n",
    "plt.ylabel('kG')\n",
    "plt.show()"
   ]
  },
  {
   "cell_type": "code",
   "execution_count": null,
   "metadata": {},
   "outputs": [],
   "source": [
    "Voltage = 0.358\n",
    "magFied = linear(Voltage, popt[0], popt[1])\n",
    "print(\"%f kG, or %f T\" %(magFied, magFied/10))"
   ]
  },
  {
   "cell_type": "code",
   "execution_count": null,
   "metadata": {},
   "outputs": [],
   "source": []
  }
 ],
 "metadata": {
  "kernelspec": {
   "display_name": "Python 3",
   "language": "python",
   "name": "python3"
  },
  "language_info": {
   "codemirror_mode": {
    "name": "ipython",
    "version": 3
   },
   "file_extension": ".py",
   "mimetype": "text/x-python",
   "name": "python",
   "nbconvert_exporter": "python",
   "pygments_lexer": "ipython3",
   "version": "3.7.4"
  }
 },
 "nbformat": 4,
 "nbformat_minor": 4
}
