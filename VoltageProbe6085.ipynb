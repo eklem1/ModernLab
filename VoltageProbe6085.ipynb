{
 "cells": [
  {
   "cell_type": "code",
   "execution_count": 1,
   "metadata": {},
   "outputs": [],
   "source": [
    "import numpy as np\n",
    "import matplotlib.pyplot as plt\n",
    "import matplotlib.gridspec as gs\n",
    "import scipy.optimize as opt\n",
    "from scipy.optimize import curve_fit\n",
    "import spinmob as s\n",
    "# import os \n",
    "# Add errors to resulting field value"
   ]
  },
  {
   "cell_type": "code",
   "execution_count": 2,
   "metadata": {},
   "outputs": [],
   "source": [
    "def linear(V, m, b):\n",
    "    return m*V + b\n",
    "\n",
    "\n",
    "def linearErr(V, erV, m, erM, b, erb):\n",
    "    return np.sqrt( (m*V)**2*( (erM/m)**2+ (erV/V)**2) + (erb)**2 )\n"
   ]
  },
  {
   "cell_type": "code",
   "execution_count": 3,
   "metadata": {},
   "outputs": [
    {
     "name": "stdout",
     "output_type": "stream",
     "text": [
      "[0.01 0.02 0.03 0.04 0.05 0.06 0.07 0.08 0.09 0.1  0.11 0.12 0.13 0.14\n",
      " 0.15 0.16 0.17 0.18 0.19 0.2  0.21 0.22 0.23 0.24 0.25 0.26 0.27 0.28\n",
      " 0.29 0.3  0.31 0.32 0.33 0.34 0.35 0.36 0.37 0.38 0.39 0.4  0.41 0.42\n",
      " 0.43 0.44 0.45 0.46 0.47 0.48 0.49 0.5  0.51 0.52 0.53]\n"
     ]
    }
   ],
   "source": [
    "CalData = np.transpose(np.loadtxt(\"Calibration_EQ6085.csv\", delimiter=',', skiprows = 1))\n",
    "\n",
    "print(CalData[0])"
   ]
  },
  {
   "cell_type": "code",
   "execution_count": 4,
   "metadata": {},
   "outputs": [],
   "source": [
    "#1G = 1e(-4)T\n",
    "#1T = 10 000 G\n",
    "# so 0.5 T is 5000G -> 5kG\n",
    "\n",
    "\n",
    "# for i in range(0, int(len(final_result)/10)):\n",
    "popt, pcov = curve_fit(linear, CalData[0][0:-9], CalData[1][0:-9])\n",
    "errP = np.sqrt(np.diag(pcov))\n",
    "mMag = popt[0]\n",
    "bMag = popt[1]"
   ]
  },
  {
   "cell_type": "code",
   "execution_count": 5,
   "metadata": {},
   "outputs": [
    {
     "data": {
      "image/png": "[encoded data removed]",
      "text/plain": [
       "<Figure size 432x288 with 1 Axes>"
      ]
     },
     "metadata": {
      "needs_background": "light"
     },
     "output_type": "display_data"
    }
   ],
   "source": [
    "V = np.linspace(0, .6, 100)\n",
    "\n",
    "plt.plot(CalData[0], CalData[1])\n",
    "plt.plot(V, linear(V, popt[0], popt[1]), ls=\"--\")\n",
    "\n",
    "# plt.title(\"T vs mV\")\n",
    "plt.xlabel('V')\n",
    "plt.ylabel('kG')\n",
    "plt.show()"
   ]
  },
  {
   "cell_type": "code",
   "execution_count": 6,
   "metadata": {},
   "outputs": [],
   "source": [
    "def getMagFromVolt_Err(V, ErrV):\n",
    "    magFied = linear(Voltage, mMag, bMag)\n",
    "    \n",
    "    Err = linearErr(V, ErrV, mMag, errP[0], bMag, errP[1])\n",
    "    return [magFied, Err]\n",
    "    "
   ]
  },
  {
   "cell_type": "code",
   "execution_count": 16,
   "metadata": {},
   "outputs": [
    {
     "name": "stdout",
     "output_type": "stream",
     "text": [
      "5.009539(0.0703) kG, or 0.500954 T\n"
     ]
    }
   ],
   "source": [
    "Voltage = 0.358\n",
    "VoltErr = 0.012*Voltage + 3**3*(1e-7) #this is sorta for the wrong range\n",
    "\n",
    "magFied = getMagFromVolt_Err(Voltage, VoltErr)\n",
    "\n",
    "print(\"%f(%.4f) kG, or %f T\" %(magFied[0], magFied[1], magFied[0]/10))"
   ]
  },
  {
   "cell_type": "code",
   "execution_count": null,
   "metadata": {},
   "outputs": [],
   "source": []
  }
 ],
 "metadata": {
  "kernelspec": {
   "display_name": "Python 3",
   "language": "python",
   "name": "python3"
  },
  "language_info": {
   "codemirror_mode": {
    "name": "ipython",
    "version": 3
   },
   "file_extension": ".py",
   "mimetype": "text/x-python",
   "name": "python",
   "nbconvert_exporter": "python",
   "pygments_lexer": "ipython3",
   "version": "3.7.4"
  }
 },
 "nbformat": 4,
 "nbformat_minor": 4
}
